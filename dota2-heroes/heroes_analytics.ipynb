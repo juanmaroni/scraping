{
 "cells": [
  {
   "cell_type": "markdown",
   "metadata": {},
   "source": [
    "## Dota Heroes analytics"
   ]
  },
  {
   "cell_type": "code",
   "execution_count": 10,
   "metadata": {},
   "outputs": [],
   "source": [
    "import pandas as pd\n",
    "import numpy as np\n",
    "import matplotlib.pyplot as plt\n",
    "from typing import List, Dict\n",
    "from collections import Counter\n",
    "from scrap_heroes import csv_filepath\n",
    "\n",
    "Df = pd.DataFrame\n"
   ]
  },
  {
   "cell_type": "code",
   "execution_count": 3,
   "metadata": {},
   "outputs": [
    {
     "name": "stdout",
     "output_type": "stream",
     "text": [
      "Top 5 rows:\n",
      "            attack_type                                          lst_roles  \\\n",
      "name                                                                         \n",
      "Earthshaker       Melee                Support, Initiator, Disabler, Nuker   \n",
      "Sven              Melee         Carry, Disabler, Initiator, Durable, Nuker   \n",
      "Tiny              Melee  Carry, Nuker, Pusher, Initiator, Durable, Disa...   \n",
      "Kunkka            Melee  Carry, Support, Disabler, Initiator, Durable, ...   \n",
      "Beastmaster       Melee                Initiator, Disabler, Durable, Nuker   \n",
      "\n",
      "             intelligence  int_gain  agility  agi_gain  strength  str_gain  \\\n",
      "name                                                                         \n",
      "Earthshaker            16       1.8       12       1.4        22       3.7   \n",
      "Sven                   16       1.3       21       2.0        22       3.2   \n",
      "Tiny                   17       2.2        0       0.0        28       3.8   \n",
      "Kunkka                 18       1.8       14       1.3        24       3.8   \n",
      "Beastmaster            16       1.9       18       1.6        23       2.9   \n",
      "\n",
      "             min_base_damage  max_base_damage  base_speed  armor  day_vision  \\\n",
      "name                                                                           \n",
      "Earthshaker               27               37         310   3.68        1800   \n",
      "Sven                      41               43         325   3.94        1800   \n",
      "Tiny                      31               37         300   0.00        1800   \n",
      "Kunkka                    26               36         300   2.96        1800   \n",
      "Beastmaster               35               39         305   1.52        1800   \n",
      "\n",
      "             night_vision  \n",
      "name                       \n",
      "Earthshaker           800  \n",
      "Sven                  800  \n",
      "Tiny                  800  \n",
      "Kunkka                800  \n",
      "Beastmaster           800  \n"
     ]
    }
   ],
   "source": [
    "heroes_file: Df = pd.read_csv(csv_filepath, delimiter = '|', lineterminator = '\\n', index_col='name')\n",
    "    \n",
    "# Dropping columns I won't be using\n",
    "new_heroes_file: Df = heroes_file.drop(['portrait_pic_url', 'portrait_ingame_url', 'bio', 'lst_abilities'], axis = 1)\n",
    "\n",
    "# Printing top 5 rows from the dataset\n",
    "print('Top 5 rows:')\n",
    "print(new_heroes_file.head())\n"
   ]
  },
  {
   "cell_type": "code",
   "execution_count": 68,
   "metadata": {},
   "outputs": [
    {
     "name": "stdout",
     "output_type": "stream",
     "text": [
      "Total ranged Heroes: 63\n",
      "Total melee Heroes: 57\n"
     ]
    },
    {
     "data": {
      "image/png": "[encoded data removed]",
      "text/plain": [
       "<Figure size 432x288 with 1 Axes>"
      ]
     },
     "metadata": {
      "needs_background": "light"
     },
     "output_type": "display_data"
    }
   ],
   "source": [
    "# How many melee and ranged heroes exist?\n",
    "attack_type_values: List = new_heroes_file['attack_type'].value_counts()\n",
    "total_ranged: int = attack_type_values[0]\n",
    "total_melee: int = attack_type_values[1]\n",
    "\n",
    "#print(f'Total ranged Heroes: {total_ranged}')\n",
    "#print(f'Total melee Heroes: {total_melee}')\n",
    "\n",
    "fig, ax = plt.subplots()\n",
    "plt.ylabel('Number of Heroes')\n",
    "plt.yticks(np.arange(0, max(attack_type_values) + 10, 10))\n",
    "plt.xlabel('Attack Types')\n",
    "plt.title('Number of Heroes by Attack Type')\n",
    "ax.bar(['Ranged', 'Melee'], attack_type_values, width=0.3)\n",
    "ax.get_children()[0].set_color('r')\n",
    "\n",
    "for i, v in enumerate(attack_type_values):\n",
    "    plt.text(i - 0.05, v + 0.5, str(v))\n",
    "\n",
    "plt.show()\n"
   ]
  },
  {
   "cell_type": "code",
   "execution_count": 49,
   "metadata": {},
   "outputs": [
    {
     "data": {
      "image/png": "[encoded data removed]",
      "text/plain": [
       "<Figure size 720x720 with 1 Axes>"
      ]
     },
     "metadata": {
      "needs_background": "light"
     },
     "output_type": "display_data"
    }
   ],
   "source": [
    "# Roles\n",
    "roles: Df = new_heroes_file['lst_roles']\n",
    "count_roles: Dict = Counter([r for x in roles for r in x.split(', ')])\n",
    "name_roles = list(count_roles.keys())\n",
    "n_heroes_by_role = list(count_roles.values())\n",
    "\n",
    "fig, ax = plt.subplots(figsize=(10, 10))\n",
    "plt.ylabel('Number of Heroes')\n",
    "plt.yticks(np.arange(0, max(n_heroes_by_role) + 10, 10))\n",
    "plt.xlabel('Roles')\n",
    "plt.xticks(np.arange(len(name_roles)), (name_roles))\n",
    "plt.title('Number of Heroes by Role')\n",
    "ax.bar(name_roles, n_heroes_by_role)\n",
    "\n",
    "for i, v in enumerate(n_heroes_by_role):\n",
    "    plt.text(i - 0.15, v + 0.5, str(v))\n",
    "            \n",
    "plt.show()\n"
   ]
  },
  {
   "cell_type": "code",
   "execution_count": null,
   "metadata": {},
   "outputs": [],
   "source": []
  }
 ],
 "metadata": {
  "kernelspec": {
   "display_name": "Python 3",
   "language": "python",
   "name": "python3"
  },
  "language_info": {
   "codemirror_mode": {
    "name": "ipython",
    "version": 3
   },
   "file_extension": ".py",
   "mimetype": "text/x-python",
   "name": "python",
   "nbconvert_exporter": "python",
   "pygments_lexer": "ipython3",
   "version": "3.7.3"
  }
 },
 "nbformat": 4,
 "nbformat_minor": 4
}
